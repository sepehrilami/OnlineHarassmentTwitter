{
 "cells": [
  {
   "cell_type": "markdown",
   "metadata": {},
   "source": [
    "## Requirements"
   ]
  },
  {
   "cell_type": "code",
   "execution_count": 1,
   "metadata": {},
   "outputs": [],
   "source": [
    "import os\n",
    "from os import mkdir\n",
    "from genericpath import exists\n",
    "from tqdm import tqdm\n",
    "from time import sleep\n",
    "\n",
    "import pandas as pd\n",
    "import numpy as np\n",
    "import tweepy\n",
    "from textblob import TextBlob\n",
    "from vaderSentiment.vaderSentiment import SentimentIntensityAnalyzer\n",
    "\n",
    "from TwitterApi.tweet_api import TweetCrawlerAcademic\n"
   ]
  },
  {
   "cell_type": "code",
   "execution_count": 2,
   "metadata": {},
   "outputs": [
    {
     "data": {
      "text/plain": [
       "<pandas._config.config.option_context at 0x220902ea4f0>"
      ]
     },
     "execution_count": 2,
     "metadata": {},
     "output_type": "execute_result"
    }
   ],
   "source": [
    "pd.option_context('display.float_format',  float)\n"
   ]
  },
  {
   "cell_type": "code",
   "execution_count": 3,
   "metadata": {},
   "outputs": [],
   "source": [
    "# constant variables\n",
    "START_TIME = \"2019-01-01T00:00:00Z\"\n",
    "END_TIME = \"2022-07-01T00:00:00Z\""
   ]
  },
  {
   "cell_type": "code",
   "execution_count": null,
   "metadata": {},
   "outputs": [],
   "source": []
  },
  {
   "cell_type": "markdown",
   "metadata": {},
   "source": [
    "## Crawl Twitter"
   ]
  },
  {
   "cell_type": "code",
   "execution_count": 4,
   "metadata": {},
   "outputs": [],
   "source": [
    "def set_output_name(string):\n",
    "    name = string.replace(\" \", \"_\")\n",
    "    return name.replace(\":\", \"\")\n",
    "\n",
    "def edit_dict_key_names(dictionary, dicname):\n",
    "    l = dict()\n",
    "    for key in dictionary.keys():\n",
    "        newkey = f'{dicname}_{key}'\n",
    "        l[newkey] = dictionary[key]\n",
    "    return l\n",
    "\n",
    "def retrieve_dataframes(store_path, page):\n",
    "    users = pd.read_csv(f'{store_path}/{page}/users.csv')\n",
    "    tweets = pd.read_csv(f'{store_path}/{page}/tweets.csv')\n",
    "    references = pd.read_csv(f'{store_path}/{page}/refrences.csv', index_col='id')\n",
    "    return users, tweets, references"
   ]
  },
  {
   "cell_type": "code",
   "execution_count": 5,
   "metadata": {},
   "outputs": [],
   "source": [
    "client = TweetCrawlerAcademic(\"API.JSON\", \"crawler.log\")"
   ]
  },
  {
   "cell_type": "code",
   "execution_count": 6,
   "metadata": {},
   "outputs": [
    {
     "name": "stdout",
     "output_type": "stream",
     "text": [
      "I_apologize_harassed_isquote_-isretweet_langen\n"
     ]
    }
   ],
   "source": [
    "query = \"I apologize harassed is:quote -is:retweet lang:en\"\n",
    "filename = set_output_name(query)\n",
    "print(filename)\n",
    "store_path = f'data/{filename}'"
   ]
  },
  {
   "cell_type": "code",
   "execution_count": 7,
   "metadata": {},
   "outputs": [
    {
     "name": "stderr",
     "output_type": "stream",
     "text": [
      "2it [00:19,  9.78s/it]\n"
     ]
    }
   ],
   "source": [
    "client.get_all_tweets(\n",
    "    query=query,\n",
    "    start_time=START_TIME,\n",
    "    end_time=END_TIME,\n",
    "    store_path=store_path\n",
    ")"
   ]
  },
  {
   "cell_type": "code",
   "execution_count": 8,
   "metadata": {},
   "outputs": [
    {
     "data": {
      "text/html": [
       "<div>\n",
       "<style scoped>\n",
       "    .dataframe tbody tr th:only-of-type {\n",
       "        vertical-align: middle;\n",
       "    }\n",
       "\n",
       "    .dataframe tbody tr th {\n",
       "        vertical-align: top;\n",
       "    }\n",
       "\n",
       "    .dataframe thead th {\n",
       "        text-align: right;\n",
       "    }\n",
       "</style>\n",
       "<table border=\"1\" class=\"dataframe\">\n",
       "  <thead>\n",
       "    <tr style=\"text-align: right;\">\n",
       "      <th></th>\n",
       "      <th>author_id</th>\n",
       "      <th>created_at</th>\n",
       "      <th>id</th>\n",
       "      <th>lang</th>\n",
       "      <th>public_metrics_like_count</th>\n",
       "      <th>public_metrics_quote_count</th>\n",
       "      <th>public_metrics_reply_count</th>\n",
       "      <th>public_metrics_retweet_count</th>\n",
       "      <th>quoted_id</th>\n",
       "      <th>replied_to_id</th>\n",
       "      <th>text</th>\n",
       "    </tr>\n",
       "  </thead>\n",
       "  <tbody>\n",
       "    <tr>\n",
       "      <th>13</th>\n",
       "      <td>1400893210264707072</td>\n",
       "      <td>2022-06-04 23:55:39+00:00</td>\n",
       "      <td>1533236067746209792</td>\n",
       "      <td>en</td>\n",
       "      <td>201</td>\n",
       "      <td>0</td>\n",
       "      <td>5</td>\n",
       "      <td>33</td>\n",
       "      <td>NaN</td>\n",
       "      <td>NaN</td>\n",
       "      <td>\"I'm still gonna do this to people\" \\n\\nyou me...</td>\n",
       "    </tr>\n",
       "    <tr>\n",
       "      <th>29</th>\n",
       "      <td>1271479172989218818</td>\n",
       "      <td>2022-04-15 19:24:12+00:00</td>\n",
       "      <td>1515048360687779841</td>\n",
       "      <td>en</td>\n",
       "      <td>253</td>\n",
       "      <td>3</td>\n",
       "      <td>6</td>\n",
       "      <td>20</td>\n",
       "      <td>1.515043e+18</td>\n",
       "      <td>NaN</td>\n",
       "      <td>All what Dream has to do: \"I'm sorry to Bitzel...</td>\n",
       "    </tr>\n",
       "    <tr>\n",
       "      <th>38</th>\n",
       "      <td>1349196499708596225</td>\n",
       "      <td>2022-03-21 16:05:19+00:00</td>\n",
       "      <td>1505938617054556163</td>\n",
       "      <td>en</td>\n",
       "      <td>74</td>\n",
       "      <td>0</td>\n",
       "      <td>13</td>\n",
       "      <td>0</td>\n",
       "      <td>1.505934e+18</td>\n",
       "      <td>NaN</td>\n",
       "      <td>want to apologize for putting this shit on you...</td>\n",
       "    </tr>\n",
       "    <tr>\n",
       "      <th>51</th>\n",
       "      <td>753984763115950081</td>\n",
       "      <td>2022-02-09 21:27:10+00:00</td>\n",
       "      <td>1491524097620070400</td>\n",
       "      <td>en</td>\n",
       "      <td>141</td>\n",
       "      <td>1</td>\n",
       "      <td>5</td>\n",
       "      <td>32</td>\n",
       "      <td>1.491503e+18</td>\n",
       "      <td>NaN</td>\n",
       "      <td>It's very telling that this letter doesn't act...</td>\n",
       "    </tr>\n",
       "    <tr>\n",
       "      <th>98</th>\n",
       "      <td>149913262</td>\n",
       "      <td>2021-09-06 00:18:30+00:00</td>\n",
       "      <td>1434672318786179072</td>\n",
       "      <td>en</td>\n",
       "      <td>213</td>\n",
       "      <td>0</td>\n",
       "      <td>19</td>\n",
       "      <td>5</td>\n",
       "      <td>NaN</td>\n",
       "      <td>NaN</td>\n",
       "      <td>On behalf of all Hawkeye fans, I apologize for...</td>\n",
       "    </tr>\n",
       "  </tbody>\n",
       "</table>\n",
       "</div>"
      ],
      "text/plain": [
       "              author_id                 created_at                   id lang  \\\n",
       "13  1400893210264707072  2022-06-04 23:55:39+00:00  1533236067746209792   en   \n",
       "29  1271479172989218818  2022-04-15 19:24:12+00:00  1515048360687779841   en   \n",
       "38  1349196499708596225  2022-03-21 16:05:19+00:00  1505938617054556163   en   \n",
       "51   753984763115950081  2022-02-09 21:27:10+00:00  1491524097620070400   en   \n",
       "98            149913262  2021-09-06 00:18:30+00:00  1434672318786179072   en   \n",
       "\n",
       "    public_metrics_like_count  public_metrics_quote_count  \\\n",
       "13                        201                           0   \n",
       "29                        253                           3   \n",
       "38                         74                           0   \n",
       "51                        141                           1   \n",
       "98                        213                           0   \n",
       "\n",
       "    public_metrics_reply_count  public_metrics_retweet_count     quoted_id  \\\n",
       "13                           5                            33           NaN   \n",
       "29                           6                            20  1.515043e+18   \n",
       "38                          13                             0  1.505934e+18   \n",
       "51                           5                            32  1.491503e+18   \n",
       "98                          19                             5           NaN   \n",
       "\n",
       "    replied_to_id                                               text  \n",
       "13            NaN  \"I'm still gonna do this to people\" \\n\\nyou me...  \n",
       "29            NaN  All what Dream has to do: \"I'm sorry to Bitzel...  \n",
       "38            NaN  want to apologize for putting this shit on you...  \n",
       "51            NaN  It's very telling that this letter doesn't act...  \n",
       "98            NaN  On behalf of all Hawkeye fans, I apologize for...  "
      ]
     },
     "execution_count": 8,
     "metadata": {},
     "output_type": "execute_result"
    }
   ],
   "source": [
    "tw = pd.read_csv(f'{store_path}/page1/tweets.csv')\n",
    "tw = tw[tw[\"public_metrics_reply_count\"] >= 5]\n",
    "tw.head()"
   ]
  },
  {
   "cell_type": "markdown",
   "metadata": {},
   "source": [
    "## Get Replies"
   ]
  },
  {
   "cell_type": "code",
   "execution_count": 23,
   "metadata": {},
   "outputs": [],
   "source": [
    "def get_all_replies(client, path, conversation_id):\n",
    "    conv_query = f'conversation_id:{conversation_id} -is:retweet'\n",
    "    \n",
    "    out = pd.DataFrame()\n",
    "    for i, respond in tqdm(enumerate(tweepy.Paginator(client.client.search_all_tweets,\n",
    "                                                      query=conv_query,\n",
    "                                                      max_results=500,\n",
    "                                                      start_time=START_TIME,\n",
    "                                                      end_time=END_TIME))):\n",
    "        if respond.data is None:\n",
    "            print(\"respond.data is none\")\n",
    "            continue\n",
    "        out = out.append(pd.DataFrame(client.__get_respond_dfs__(respond)['tweets']), ignore_index=True)\n",
    "        sleep(1)\n",
    "    if not out.empty:\n",
    "        if len(out.index) > 0:\n",
    "            directory = f'{path}/{conversation_id}'\n",
    "            if not os.path.exists(directory):\n",
    "                mkdir(directory)\n",
    "            out.to_excel(f'{directory}/replies.xlsx', index=False)\n",
    "            print(f'File saved at {directory}/replies.txt')\n",
    "        else:\n",
    "            print(f'{out} size is < 5')\n",
    "    else:\n",
    "        print(f'len(out.index) is {len(out.index)}')\n",
    "    return out                     "
   ]
  },
  {
   "cell_type": "code",
   "execution_count": 10,
   "metadata": {},
   "outputs": [
    {
     "name": "stderr",
     "output_type": "stream",
     "text": [
      "1it [00:01,  1.65s/it]\n"
     ]
    },
    {
     "name": "stdout",
     "output_type": "stream",
     "text": [
      "File saved at data/1515048360687779841/replies.txt\n"
     ]
    },
    {
     "data": {
      "text/html": [
       "<div>\n",
       "<style scoped>\n",
       "    .dataframe tbody tr th:only-of-type {\n",
       "        vertical-align: middle;\n",
       "    }\n",
       "\n",
       "    .dataframe tbody tr th {\n",
       "        vertical-align: top;\n",
       "    }\n",
       "\n",
       "    .dataframe thead th {\n",
       "        text-align: right;\n",
       "    }\n",
       "</style>\n",
       "<table border=\"1\" class=\"dataframe\">\n",
       "  <thead>\n",
       "    <tr style=\"text-align: right;\">\n",
       "      <th></th>\n",
       "      <th>id</th>\n",
       "      <th>text</th>\n",
       "    </tr>\n",
       "  </thead>\n",
       "  <tbody>\n",
       "    <tr>\n",
       "      <th>0</th>\n",
       "      <td>1515069893657432065</td>\n",
       "      <td>@MLGflower @OfflinePepsi @RazaAkira Hello dear...</td>\n",
       "    </tr>\n",
       "    <tr>\n",
       "      <th>1</th>\n",
       "      <td>1515060182757249030</td>\n",
       "      <td>@RazaAkira Here’s the apology \\n\\nhttps://t.co...</td>\n",
       "    </tr>\n",
       "    <tr>\n",
       "      <th>2</th>\n",
       "      <td>1515055448768094211</td>\n",
       "      <td>@RazaAkira why would he have to apologize to b...</td>\n",
       "    </tr>\n",
       "    <tr>\n",
       "      <th>3</th>\n",
       "      <td>1515055009506992134</td>\n",
       "      <td>@MLGflower @BlkHwk0ps @OfflinePepsi @RazaAkira...</td>\n",
       "    </tr>\n",
       "    <tr>\n",
       "      <th>4</th>\n",
       "      <td>1515054753876951040</td>\n",
       "      <td>@OfflinePepsi @RazaAkira GrantCohn better + Ra...</td>\n",
       "    </tr>\n",
       "    <tr>\n",
       "      <th>5</th>\n",
       "      <td>1515054483528691725</td>\n",
       "      <td>@RazaAkira Why Bitzel?</td>\n",
       "    </tr>\n",
       "    <tr>\n",
       "      <th>6</th>\n",
       "      <td>1515053804357574660</td>\n",
       "      <td>@MLGflower @RazaAkira GrantCohn better + Ratio...</td>\n",
       "    </tr>\n",
       "    <tr>\n",
       "      <th>7</th>\n",
       "      <td>1515051527538241538</td>\n",
       "      <td>@RazaAkira 2 priv qrts LOL</td>\n",
       "    </tr>\n",
       "    <tr>\n",
       "      <th>8</th>\n",
       "      <td>1515050338474409984</td>\n",
       "      <td>@RazaAkira bitzel is harrassing dream and an a...</td>\n",
       "    </tr>\n",
       "    <tr>\n",
       "      <th>9</th>\n",
       "      <td>1515050226997862401</td>\n",
       "      <td>You can private quote tweet me all you want. W...</td>\n",
       "    </tr>\n",
       "  </tbody>\n",
       "</table>\n",
       "</div>"
      ],
      "text/plain": [
       "                    id                                               text\n",
       "0  1515069893657432065  @MLGflower @OfflinePepsi @RazaAkira Hello dear...\n",
       "1  1515060182757249030  @RazaAkira Here’s the apology \\n\\nhttps://t.co...\n",
       "2  1515055448768094211  @RazaAkira why would he have to apologize to b...\n",
       "3  1515055009506992134  @MLGflower @BlkHwk0ps @OfflinePepsi @RazaAkira...\n",
       "4  1515054753876951040  @OfflinePepsi @RazaAkira GrantCohn better + Ra...\n",
       "5  1515054483528691725                             @RazaAkira Why Bitzel?\n",
       "6  1515053804357574660  @MLGflower @RazaAkira GrantCohn better + Ratio...\n",
       "7  1515051527538241538                         @RazaAkira 2 priv qrts LOL\n",
       "8  1515050338474409984  @RazaAkira bitzel is harrassing dream and an a...\n",
       "9  1515050226997862401  You can private quote tweet me all you want. W..."
      ]
     },
     "execution_count": 10,
     "metadata": {},
     "output_type": "execute_result"
    }
   ],
   "source": [
    "get_all_replies(client, 'data', 1515048360687779841)"
   ]
  },
  {
   "cell_type": "markdown",
   "metadata": {},
   "source": [
    "## Get Self-quote Tweets"
   ]
  },
  {
   "cell_type": "code",
   "execution_count": 11,
   "metadata": {},
   "outputs": [],
   "source": [
    "# def get_sq_tweets_of_page(store_path, page):    \n",
    "\n",
    "#     self_quote_tweets = pd.DataFrame()\n",
    "#     _, tweets, references = retrieve_dataframes(store_path, page)\n",
    "#     for t_id, q_id in tweets[['author_id', 'quoted_id']].values:\n",
    "#         quoted_tweets = references.loc[q_id]\n",
    "#         if len(quoted_tweets.index) == 0:\n",
    "#             continue\n",
    "#         quoted_tweet = quoted_tweets.iloc[0]\n",
    "#         if (quoted_tweet.author_id == t_id):\n",
    "#             dict1 = edit_dict_key_names(dict(tweets.iloc[tweet]), 'tweets')\n",
    "#             dict2 = edit_dict_key_names(dict(quoted_tweet), 'references')\n",
    "#             merged_dict = {**dict1, **dict2}\n",
    "#             self_quote_tweets = self_quote_tweets.append(merged_dict, ignore_index=True)\n",
    "\n",
    "#     print(self_quote_tweets.shape)\n",
    "#     return self_quote_tweets\n",
    "\n",
    "\n",
    "\n",
    "def get_sq_tweets_of_page(store_path, page):    \n",
    "\n",
    "    # self_quote_tweets = pd.DataFrame()\n",
    "    _, tweets, references = retrieve_dataframes(store_path, page)\n",
    "    tweets.dropna(subset=['quoted_id'], inplace=True)\n",
    "    # print(tweets)\n",
    "    df = pd.merge(\n",
    "        tweets[tweets.columns],\n",
    "        references[references.columns],\n",
    "        left_on='quoted_id',\n",
    "        right_index=True,\n",
    "        suffixes=('_original', '_reference')\n",
    "    )\n",
    "    # df[\"quoted_id\"] = df[\"quoted_id\"].astype(int)\n",
    "    print(df[\"quoted_id\"].dtype)\n",
    "    return df, df[df['author_id_original'] == df['author_id_reference']].sort_values('id')"
   ]
  },
  {
   "cell_type": "code",
   "execution_count": 12,
   "metadata": {},
   "outputs": [
    {
     "name": "stdout",
     "output_type": "stream",
     "text": [
      "float64\n"
     ]
    },
    {
     "data": {
      "text/html": [
       "<div>\n",
       "<style scoped>\n",
       "    .dataframe tbody tr th:only-of-type {\n",
       "        vertical-align: middle;\n",
       "    }\n",
       "\n",
       "    .dataframe tbody tr th {\n",
       "        vertical-align: top;\n",
       "    }\n",
       "\n",
       "    .dataframe thead th {\n",
       "        text-align: right;\n",
       "    }\n",
       "</style>\n",
       "<table border=\"1\" class=\"dataframe\">\n",
       "  <thead>\n",
       "    <tr style=\"text-align: right;\">\n",
       "      <th></th>\n",
       "      <th>author_id_original</th>\n",
       "      <th>created_at_original</th>\n",
       "      <th>id</th>\n",
       "      <th>lang_original</th>\n",
       "      <th>public_metrics_like_count_original</th>\n",
       "      <th>public_metrics_quote_count_original</th>\n",
       "      <th>public_metrics_reply_count_original</th>\n",
       "      <th>public_metrics_retweet_count_original</th>\n",
       "      <th>quoted_id</th>\n",
       "      <th>replied_to_id</th>\n",
       "      <th>text_original</th>\n",
       "      <th>author_id_reference</th>\n",
       "      <th>created_at_reference</th>\n",
       "      <th>lang_reference</th>\n",
       "      <th>public_metrics_like_count_reference</th>\n",
       "      <th>public_metrics_quote_count_reference</th>\n",
       "      <th>public_metrics_reply_count_reference</th>\n",
       "      <th>public_metrics_retweet_count_reference</th>\n",
       "      <th>text_reference</th>\n",
       "    </tr>\n",
       "  </thead>\n",
       "  <tbody>\n",
       "    <tr>\n",
       "      <th>366</th>\n",
       "      <td>406132851</td>\n",
       "      <td>2019-05-24 10:26:22+00:00</td>\n",
       "      <td>1131869040006221824</td>\n",
       "      <td>en</td>\n",
       "      <td>11</td>\n",
       "      <td>2</td>\n",
       "      <td>5</td>\n",
       "      <td>0</td>\n",
       "      <td>1.131562e+18</td>\n",
       "      <td>NaN</td>\n",
       "      <td>Hi just want to clarify this CC question. This...</td>\n",
       "      <td>406132851</td>\n",
       "      <td>2019-05-23 14:07:01+00:00</td>\n",
       "      <td>tl</td>\n",
       "      <td>15</td>\n",
       "      <td>1</td>\n",
       "      <td>3</td>\n",
       "      <td>0</td>\n",
       "      <td>tara momol sabay usap kung bakit di pa tayo na...</td>\n",
       "    </tr>\n",
       "    <tr>\n",
       "      <th>345</th>\n",
       "      <td>90906432</td>\n",
       "      <td>2019-08-05 03:53:59+00:00</td>\n",
       "      <td>1158224606131625984</td>\n",
       "      <td>en</td>\n",
       "      <td>1</td>\n",
       "      <td>0</td>\n",
       "      <td>0</td>\n",
       "      <td>0</td>\n",
       "      <td>1.158208e+18</td>\n",
       "      <td>NaN</td>\n",
       "      <td>I apologize to @Rialisms @RonToye @marchimark ...</td>\n",
       "      <td>90906432</td>\n",
       "      <td>2019-08-05 02:49:56+00:00</td>\n",
       "      <td>en</td>\n",
       "      <td>3</td>\n",
       "      <td>1</td>\n",
       "      <td>1</td>\n",
       "      <td>0</td>\n",
       "      <td>Ok I’m sorry for ranting but here it goes &amp;amp...</td>\n",
       "    </tr>\n",
       "    <tr>\n",
       "      <th>333</th>\n",
       "      <td>1011662484913246213</td>\n",
       "      <td>2019-09-24 17:14:17+00:00</td>\n",
       "      <td>1176545401576382464</td>\n",
       "      <td>en</td>\n",
       "      <td>0</td>\n",
       "      <td>0</td>\n",
       "      <td>0</td>\n",
       "      <td>0</td>\n",
       "      <td>1.176390e+18</td>\n",
       "      <td>NaN</td>\n",
       "      <td>@ThomasSanders i've been harassed several time...</td>\n",
       "      <td>1011662484913246213</td>\n",
       "      <td>2019-09-24 06:55:04+00:00</td>\n",
       "      <td>en</td>\n",
       "      <td>0</td>\n",
       "      <td>1</td>\n",
       "      <td>0</td>\n",
       "      <td>0</td>\n",
       "      <td>@ThomasSanders can u please confirm or deny wh...</td>\n",
       "    </tr>\n",
       "    <tr>\n",
       "      <th>281</th>\n",
       "      <td>59731401</td>\n",
       "      <td>2020-06-01 09:57:17+00:00</td>\n",
       "      <td>1267394780272582657</td>\n",
       "      <td>en</td>\n",
       "      <td>103</td>\n",
       "      <td>0</td>\n",
       "      <td>5</td>\n",
       "      <td>19</td>\n",
       "      <td>1.267376e+18</td>\n",
       "      <td>NaN</td>\n",
       "      <td>In the interest of transparency (because let's...</td>\n",
       "      <td>59731401</td>\n",
       "      <td>2020-06-01 08:41:44+00:00</td>\n",
       "      <td>en</td>\n",
       "      <td>825</td>\n",
       "      <td>9</td>\n",
       "      <td>16</td>\n",
       "      <td>284</td>\n",
       "      <td>Police officers start placing a black man into...</td>\n",
       "    </tr>\n",
       "    <tr>\n",
       "      <th>262</th>\n",
       "      <td>881192533056827392</td>\n",
       "      <td>2020-06-29 20:11:38+00:00</td>\n",
       "      <td>1277696249097883650</td>\n",
       "      <td>en</td>\n",
       "      <td>68</td>\n",
       "      <td>0</td>\n",
       "      <td>8</td>\n",
       "      <td>3</td>\n",
       "      <td>1.277695e+18</td>\n",
       "      <td>1.277695e+18</td>\n",
       "      <td>fuck it\\n\\n@MikeZSez is being harassed for bei...</td>\n",
       "      <td>881192533056827392</td>\n",
       "      <td>2020-06-29 20:07:56+00:00</td>\n",
       "      <td>en</td>\n",
       "      <td>34</td>\n",
       "      <td>1</td>\n",
       "      <td>2</td>\n",
       "      <td>4</td>\n",
       "      <td>@trisleonidas https://t.co/O1hV4pFs2T\\n\\nme: i...</td>\n",
       "    </tr>\n",
       "    <tr>\n",
       "      <th>220</th>\n",
       "      <td>343109379</td>\n",
       "      <td>2020-09-05 02:35:06+00:00</td>\n",
       "      <td>1302072735548481537</td>\n",
       "      <td>en</td>\n",
       "      <td>1</td>\n",
       "      <td>0</td>\n",
       "      <td>0</td>\n",
       "      <td>1</td>\n",
       "      <td>1.302071e+18</td>\n",
       "      <td>NaN</td>\n",
       "      <td>Obviously I would’ve preferred a more ecologic...</td>\n",
       "      <td>343109379</td>\n",
       "      <td>2020-09-05 02:30:08+00:00</td>\n",
       "      <td>en</td>\n",
       "      <td>0</td>\n",
       "      <td>1</td>\n",
       "      <td>0</td>\n",
       "      <td>0</td>\n",
       "      <td>Then I got this answer to my tweet “Hello Hect...</td>\n",
       "    </tr>\n",
       "    <tr>\n",
       "      <th>200</th>\n",
       "      <td>1285787885942329346</td>\n",
       "      <td>2020-12-05 10:25:36+00:00</td>\n",
       "      <td>1335168439225298944</td>\n",
       "      <td>en</td>\n",
       "      <td>1</td>\n",
       "      <td>0</td>\n",
       "      <td>0</td>\n",
       "      <td>0</td>\n",
       "      <td>1.335168e+18</td>\n",
       "      <td>NaN</td>\n",
       "      <td>“hey don’t say i like killing children that’s ...</td>\n",
       "      <td>1285787885942329346</td>\n",
       "      <td>2020-12-05 10:24:41+00:00</td>\n",
       "      <td>en</td>\n",
       "      <td>0</td>\n",
       "      <td>1</td>\n",
       "      <td>0</td>\n",
       "      <td>0</td>\n",
       "      <td>harassing someone for their religion and ethni...</td>\n",
       "    </tr>\n",
       "    <tr>\n",
       "      <th>33</th>\n",
       "      <td>1378503060893278212</td>\n",
       "      <td>2022-04-09 19:59:55+00:00</td>\n",
       "      <td>1512883025234718720</td>\n",
       "      <td>en</td>\n",
       "      <td>5</td>\n",
       "      <td>1</td>\n",
       "      <td>0</td>\n",
       "      <td>0</td>\n",
       "      <td>1.512652e+18</td>\n",
       "      <td>NaN</td>\n",
       "      <td>If you're upset at me about the fey/raven situ...</td>\n",
       "      <td>1378503060893278212</td>\n",
       "      <td>2022-04-09 04:40:06+00:00</td>\n",
       "      <td>en</td>\n",
       "      <td>19</td>\n",
       "      <td>1</td>\n",
       "      <td>2</td>\n",
       "      <td>0</td>\n",
       "      <td>I suppose I should address the whole raven sit...</td>\n",
       "    </tr>\n",
       "  </tbody>\n",
       "</table>\n",
       "</div>"
      ],
      "text/plain": [
       "      author_id_original        created_at_original                   id  \\\n",
       "366            406132851  2019-05-24 10:26:22+00:00  1131869040006221824   \n",
       "345             90906432  2019-08-05 03:53:59+00:00  1158224606131625984   \n",
       "333  1011662484913246213  2019-09-24 17:14:17+00:00  1176545401576382464   \n",
       "281             59731401  2020-06-01 09:57:17+00:00  1267394780272582657   \n",
       "262   881192533056827392  2020-06-29 20:11:38+00:00  1277696249097883650   \n",
       "220            343109379  2020-09-05 02:35:06+00:00  1302072735548481537   \n",
       "200  1285787885942329346  2020-12-05 10:25:36+00:00  1335168439225298944   \n",
       "33   1378503060893278212  2022-04-09 19:59:55+00:00  1512883025234718720   \n",
       "\n",
       "    lang_original  public_metrics_like_count_original  \\\n",
       "366            en                                  11   \n",
       "345            en                                   1   \n",
       "333            en                                   0   \n",
       "281            en                                 103   \n",
       "262            en                                  68   \n",
       "220            en                                   1   \n",
       "200            en                                   1   \n",
       "33             en                                   5   \n",
       "\n",
       "     public_metrics_quote_count_original  public_metrics_reply_count_original  \\\n",
       "366                                    2                                    5   \n",
       "345                                    0                                    0   \n",
       "333                                    0                                    0   \n",
       "281                                    0                                    5   \n",
       "262                                    0                                    8   \n",
       "220                                    0                                    0   \n",
       "200                                    0                                    0   \n",
       "33                                     1                                    0   \n",
       "\n",
       "     public_metrics_retweet_count_original     quoted_id  replied_to_id  \\\n",
       "366                                      0  1.131562e+18            NaN   \n",
       "345                                      0  1.158208e+18            NaN   \n",
       "333                                      0  1.176390e+18            NaN   \n",
       "281                                     19  1.267376e+18            NaN   \n",
       "262                                      3  1.277695e+18   1.277695e+18   \n",
       "220                                      1  1.302071e+18            NaN   \n",
       "200                                      0  1.335168e+18            NaN   \n",
       "33                                       0  1.512652e+18            NaN   \n",
       "\n",
       "                                         text_original  author_id_reference  \\\n",
       "366  Hi just want to clarify this CC question. This...            406132851   \n",
       "345  I apologize to @Rialisms @RonToye @marchimark ...             90906432   \n",
       "333  @ThomasSanders i've been harassed several time...  1011662484913246213   \n",
       "281  In the interest of transparency (because let's...             59731401   \n",
       "262  fuck it\\n\\n@MikeZSez is being harassed for bei...   881192533056827392   \n",
       "220  Obviously I would’ve preferred a more ecologic...            343109379   \n",
       "200  “hey don’t say i like killing children that’s ...  1285787885942329346   \n",
       "33   If you're upset at me about the fey/raven situ...  1378503060893278212   \n",
       "\n",
       "          created_at_reference lang_reference  \\\n",
       "366  2019-05-23 14:07:01+00:00             tl   \n",
       "345  2019-08-05 02:49:56+00:00             en   \n",
       "333  2019-09-24 06:55:04+00:00             en   \n",
       "281  2020-06-01 08:41:44+00:00             en   \n",
       "262  2020-06-29 20:07:56+00:00             en   \n",
       "220  2020-09-05 02:30:08+00:00             en   \n",
       "200  2020-12-05 10:24:41+00:00             en   \n",
       "33   2022-04-09 04:40:06+00:00             en   \n",
       "\n",
       "     public_metrics_like_count_reference  \\\n",
       "366                                   15   \n",
       "345                                    3   \n",
       "333                                    0   \n",
       "281                                  825   \n",
       "262                                   34   \n",
       "220                                    0   \n",
       "200                                    0   \n",
       "33                                    19   \n",
       "\n",
       "     public_metrics_quote_count_reference  \\\n",
       "366                                     1   \n",
       "345                                     1   \n",
       "333                                     1   \n",
       "281                                     9   \n",
       "262                                     1   \n",
       "220                                     1   \n",
       "200                                     1   \n",
       "33                                      1   \n",
       "\n",
       "     public_metrics_reply_count_reference  \\\n",
       "366                                     3   \n",
       "345                                     1   \n",
       "333                                     0   \n",
       "281                                    16   \n",
       "262                                     2   \n",
       "220                                     0   \n",
       "200                                     0   \n",
       "33                                      2   \n",
       "\n",
       "     public_metrics_retweet_count_reference  \\\n",
       "366                                       0   \n",
       "345                                       0   \n",
       "333                                       0   \n",
       "281                                     284   \n",
       "262                                       4   \n",
       "220                                       0   \n",
       "200                                       0   \n",
       "33                                        0   \n",
       "\n",
       "                                        text_reference  \n",
       "366  tara momol sabay usap kung bakit di pa tayo na...  \n",
       "345  Ok I’m sorry for ranting but here it goes &amp...  \n",
       "333  @ThomasSanders can u please confirm or deny wh...  \n",
       "281  Police officers start placing a black man into...  \n",
       "262  @trisleonidas https://t.co/O1hV4pFs2T\\n\\nme: i...  \n",
       "220  Then I got this answer to my tweet “Hello Hect...  \n",
       "200  harassing someone for their religion and ethni...  \n",
       "33   I suppose I should address the whole raven sit...  "
      ]
     },
     "execution_count": 12,
     "metadata": {},
     "output_type": "execute_result"
    }
   ],
   "source": [
    "total, result = get_sq_tweets_of_page(store_path, 'page1')\n",
    "result"
   ]
  },
  {
   "cell_type": "code",
   "execution_count": 13,
   "metadata": {},
   "outputs": [],
   "source": [
    "# _, t, r = retrieve_dataframes(store_path, 'page1')\n",
    "# t = t[t[\"public_metrics_reply_count\"] >= 5]\n",
    "# t.sort_values('quoted_id')"
   ]
  },
  {
   "cell_type": "code",
   "execution_count": 24,
   "metadata": {},
   "outputs": [
    {
     "name": "stderr",
     "output_type": "stream",
     "text": [
      "  0%|          | 0/2 [00:00<?, ?it/s]"
     ]
    },
    {
     "name": "stdout",
     "output_type": "stream",
     "text": [
      "float64\n",
      "Extracted sq tweets of page1\n"
     ]
    },
    {
     "name": "stderr",
     "output_type": "stream",
     "text": [
      "1it [00:01,  1.54s/it]\n"
     ]
    },
    {
     "name": "stdout",
     "output_type": "stream",
     "text": [
      "File saved at data/I_apologize_harassed_isquote_-isretweet_langen/page1/replies/1131562176773275648/replies.txt\n",
      "Retrieved replies of 1131562176773275648 with shape (5, 2)\n"
     ]
    },
    {
     "name": "stderr",
     "output_type": "stream",
     "text": [
      "1it [00:01,  1.45s/it]\n"
     ]
    },
    {
     "name": "stdout",
     "output_type": "stream",
     "text": [
      "File saved at data/I_apologize_harassed_isquote_-isretweet_langen/page1/replies/1158208486599200768/replies.txt\n",
      "Retrieved replies of 1158208486599200768 with shape (5, 2)\n"
     ]
    },
    {
     "name": "stderr",
     "output_type": "stream",
     "text": [
      "1it [00:01,  1.35s/it]"
     ]
    },
    {
     "name": "stdout",
     "output_type": "stream",
     "text": [
      "respond.data is none\n",
      "len(out.index) is 0\n",
      "Retrieved replies of 1176389571543625728 with shape (0, 0)\n"
     ]
    },
    {
     "name": "stderr",
     "output_type": "stream",
     "text": [
      "\n",
      "1it [00:01,  1.62s/it]\n"
     ]
    },
    {
     "name": "stdout",
     "output_type": "stream",
     "text": [
      "File saved at data/I_apologize_harassed_isquote_-isretweet_langen/page1/replies/1267375766129438720/replies.txt\n",
      "Retrieved replies of 1267375766129438720 with shape (46, 2)\n"
     ]
    },
    {
     "name": "stderr",
     "output_type": "stream",
     "text": [
      "1it [00:00,  2.83it/s]"
     ]
    },
    {
     "name": "stdout",
     "output_type": "stream",
     "text": [
      "respond.data is none\n",
      "len(out.index) is 0\n",
      "Retrieved replies of 1277695316716736512 with shape (0, 0)\n"
     ]
    },
    {
     "name": "stderr",
     "output_type": "stream",
     "text": [
      "\n",
      "1it [00:00,  2.98it/s]"
     ]
    },
    {
     "name": "stdout",
     "output_type": "stream",
     "text": [
      "respond.data is none\n",
      "len(out.index) is 0\n",
      "Retrieved replies of 1302071487084593152 with shape (0, 0)\n"
     ]
    },
    {
     "name": "stderr",
     "output_type": "stream",
     "text": [
      "\n",
      "1it [00:01,  1.15s/it]"
     ]
    },
    {
     "name": "stdout",
     "output_type": "stream",
     "text": [
      "respond.data is none\n",
      "len(out.index) is 0\n",
      "Retrieved replies of 1335168208119230464 with shape (0, 0)\n"
     ]
    },
    {
     "name": "stderr",
     "output_type": "stream",
     "text": [
      "\n",
      "1it [00:01,  1.41s/it]\n"
     ]
    },
    {
     "name": "stdout",
     "output_type": "stream",
     "text": [
      "File saved at data/I_apologize_harassed_isquote_-isretweet_langen/page1/replies/1512651545271103488/replies.txt\n",
      "Retrieved replies of 1512651545271103488 with shape (13, 2)\n"
     ]
    },
    {
     "name": "stderr",
     "output_type": "stream",
     "text": [
      "100%|██████████| 2/2 [00:25<00:00, 12.84s/it]"
     ]
    },
    {
     "name": "stdout",
     "output_type": "stream",
     "text": [
      "int64\n",
      "Extracted sq tweets of page2\n"
     ]
    },
    {
     "name": "stderr",
     "output_type": "stream",
     "text": [
      "\n"
     ]
    }
   ],
   "source": [
    "from TwitterApi.tweet_api import fix_column\n",
    "\n",
    "\n",
    "for page in tqdm(os.listdir(store_path)):\n",
    "    _, self_quote_tweets = get_sq_tweets_of_page(store_path, page)\n",
    "    \n",
    "    sq_path = f'{store_path}/{page}'\n",
    "    replies_path = f'{sq_path}/replies'\n",
    "    if not os.path.exists(replies_path):\n",
    "            mkdir(replies_path)\n",
    "\n",
    "    self_quote_tweets = fix_column(self_quote_tweets)\n",
    "    \n",
    "    self_quote_tweets.to_excel(f'{sq_path}/self_quote_tweets.xlsx', index=False)\n",
    "    print(f'Extracted sq tweets of {page}')\n",
    "\n",
    "    conversation_ids = self_quote_tweets['quoted_id'].tolist()    \n",
    "    for conv_id in conversation_ids:\n",
    "        # print(int(conv_id))\n",
    "        # continue\n",
    "        reps = get_all_replies(client, replies_path, int(conv_id))\n",
    "        print(f'Retrieved replies of {int(conv_id)} with shape {reps.shape}')\n",
    "        sleep(2)"
   ]
  },
  {
   "cell_type": "code",
   "execution_count": 16,
   "metadata": {},
   "outputs": [
    {
     "data": {
      "text/plain": [
       "float"
      ]
     },
     "execution_count": 16,
     "metadata": {},
     "output_type": "execute_result"
    }
   ],
   "source": [
    "t = 1.1315621767732756e+18\n",
    "type(t)"
   ]
  },
  {
   "cell_type": "markdown",
   "metadata": {},
   "source": [
    "## Get Other Tweets (in specific time)"
   ]
  },
  {
   "cell_type": "code",
   "execution_count": 17,
   "metadata": {},
   "outputs": [],
   "source": [
    "# Constant variables\n",
    "PREV_DAYS = 3\n",
    "POST_DAYS = 3"
   ]
  },
  {
   "cell_type": "code",
   "execution_count": 18,
   "metadata": {},
   "outputs": [],
   "source": [
    "def subtract_dates(date, number):\n",
    "    return \n",
    "\n",
    "def get_prev_and_post_days(tweet):\n",
    "    created_at = tweet[\"created_at\"]\n",
    "    date = str(created_at.split()[0])\n",
    "    prev_time = f'{subtract_dates(date, 3)}T00:00:00Z'\n",
    "    post_time = f'{subtract_dates(date, -3)}T00:00:00Z'\n",
    "    return prev_time, post_time"
   ]
  },
  {
   "cell_type": "code",
   "execution_count": 19,
   "metadata": {},
   "outputs": [
    {
     "ename": "SyntaxError",
     "evalue": "invalid syntax (<fstring>, line 1)",
     "output_type": "error",
     "traceback": [
      "\u001b[1;36m  File \u001b[1;32m<fstring>:1\u001b[1;36m\u001b[0m\n\u001b[1;33m    (tweet[])\u001b[0m\n\u001b[1;37m           ^\u001b[0m\n\u001b[1;31mSyntaxError\u001b[0m\u001b[1;31m:\u001b[0m invalid syntax\n"
     ]
    }
   ],
   "source": [
    "for tweet in tweets:\n",
    "    prev_day, post_day = get_prev_and_post_days(tweet)\n",
    "    \n",
    "    query = f\"from:{tweet[]}\"\n",
    "    client.get_all_tweets(\n",
    "        query=query,\n",
    "        start_time=START_TIME,\n",
    "        end_time=END_TIME,\n",
    "        store_path=store_path\n",
    "    )    \n",
    "\n"
   ]
  },
  {
   "cell_type": "markdown",
   "metadata": {},
   "source": [
    "## Sentiment Analysis"
   ]
  },
  {
   "cell_type": "code",
   "execution_count": null,
   "metadata": {},
   "outputs": [
    {
     "data": {
      "text/plain": [
       "(13, 2)"
      ]
     },
     "execution_count": 97,
     "metadata": {},
     "output_type": "execute_result"
    }
   ],
   "source": [
    "replies = pd.read_excel('data/I_apologize_harassed_isquote_-isretweet_langen/page1/1512651545271103488/replies.xlsx')\n",
    "replies.shape"
   ]
  },
  {
   "cell_type": "code",
   "execution_count": null,
   "metadata": {},
   "outputs": [],
   "source": [
    "pd.set_option('display.float_format',  '{:,.2f}'.format)"
   ]
  },
  {
   "cell_type": "code",
   "execution_count": null,
   "metadata": {},
   "outputs": [],
   "source": [
    "replies = replies.assign(sentiment=None)\n",
    "sentences = replies['text'].tolist()\n",
    "for i, sentence in enumerate(sentences):\n",
    "    res = TextBlob(sentence)\n",
    "    mood = res.sentiment.polarity\n",
    "    replies.loc[replies['text'] == sentence, 'sentiment'] = mood"
   ]
  },
  {
   "cell_type": "code",
   "execution_count": null,
   "metadata": {},
   "outputs": [],
   "source": [
    "replies.to_csv('testtt.csv')"
   ]
  },
  {
   "cell_type": "code",
   "execution_count": null,
   "metadata": {},
   "outputs": [],
   "source": [
    "sid_obj = SentimentIntensityAnalyzer()"
   ]
  }
 ],
 "metadata": {
  "kernelspec": {
   "display_name": "Python 3.8.10 64-bit",
   "language": "python",
   "name": "python3"
  },
  "language_info": {
   "codemirror_mode": {
    "name": "ipython",
    "version": 3
   },
   "file_extension": ".py",
   "mimetype": "text/x-python",
   "name": "python",
   "nbconvert_exporter": "python",
   "pygments_lexer": "ipython3",
   "version": "3.8.10"
  },
  "orig_nbformat": 4,
  "vscode": {
   "interpreter": {
    "hash": "b4c01c8f52586033bb4bb2bf4f864991e275e728809d596b5bf2a750c26b84f7"
   }
  }
 },
 "nbformat": 4,
 "nbformat_minor": 2
}
